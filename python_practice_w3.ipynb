{
  "nbformat": 4,
  "nbformat_minor": 0,
  "metadata": {
    "colab": {
      "name": "python_practice_w3.ipynb",
      "provenance": []
    },
    "kernelspec": {
      "name": "python3",
      "display_name": "Python 3"
    }
  },
  "cells": [
    {
      "cell_type": "markdown",
      "metadata": {
        "id": "Tb6EE3NW6Ubm"
      },
      "source": [
        "\\n for next line where as \\t for tab space"
      ]
    },
    {
      "cell_type": "code",
      "metadata": {
        "colab": {
          "base_uri": "https://localhost:8080/"
        },
        "id": "MpsBWYHj59sZ",
        "outputId": "9a63f754-891e-4872-8eaa-c599012f0eaf"
      },
      "source": [
        "print( \"Twinkle, twinkle, little star, \\n\\t\\tHow I wonder what you are! Up above the world so high, Like a diamond in the sky. \\n\\tTwinkle, twinkle, little star, How I wonder what you are\")"
      ],
      "execution_count": 1,
      "outputs": [
        {
          "output_type": "stream",
          "text": [
            "Twinkle, twinkle, little star, \n",
            "\t\tHow I wonder what you are! Up above the world so high, Like a diamond in the sky. \n",
            "\tTwinkle, twinkle, little star, How I wonder what you are\n"
          ],
          "name": "stdout"
        }
      ]
    },
    {
      "cell_type": "markdown",
      "metadata": {
        "id": "zcVoxKue6tmS"
      },
      "source": [
        "to know python version"
      ]
    },
    {
      "cell_type": "code",
      "metadata": {
        "colab": {
          "base_uri": "https://localhost:8080/",
          "height": 35
        },
        "id": "E9Zf7oPX62IX",
        "outputId": "7d38d262-8ccb-4b7f-cbe9-1ff55231ed7c"
      },
      "source": [
        "import sys\r\n",
        "sys.version"
      ],
      "execution_count": 2,
      "outputs": [
        {
          "output_type": "execute_result",
          "data": {
            "application/vnd.google.colaboratory.intrinsic+json": {
              "type": "string"
            },
            "text/plain": [
              "'3.6.9 (default, Oct  8 2020, 12:12:24) \\n[GCC 8.4.0]'"
            ]
          },
          "metadata": {
            "tags": []
          },
          "execution_count": 2
        }
      ]
    },
    {
      "cell_type": "markdown",
      "metadata": {
        "id": "kl68LP2t6-nk"
      },
      "source": [
        "external information of version"
      ]
    },
    {
      "cell_type": "code",
      "metadata": {
        "colab": {
          "base_uri": "https://localhost:8080/"
        },
        "id": "upRkRa8W697B",
        "outputId": "f16c8fdc-79cd-4486-b2cb-8bc958e048e0"
      },
      "source": [
        "sys.version_info"
      ],
      "execution_count": 3,
      "outputs": [
        {
          "output_type": "execute_result",
          "data": {
            "text/plain": [
              "sys.version_info(major=3, minor=6, micro=9, releaselevel='final', serial=0)"
            ]
          },
          "metadata": {
            "tags": []
          },
          "execution_count": 3
        }
      ]
    },
    {
      "cell_type": "markdown",
      "metadata": {
        "id": "_EB_qOkK7aQJ"
      },
      "source": [
        "to know the date"
      ]
    },
    {
      "cell_type": "code",
      "metadata": {
        "colab": {
          "base_uri": "https://localhost:8080/"
        },
        "id": "n90YS-Ku7Yag",
        "outputId": "9be1756c-910e-41bc-b092-a5ffaa896266"
      },
      "source": [
        "import datetime\r\n",
        "now = datetime.datetime.now()\r\n",
        "now"
      ],
      "execution_count": 4,
      "outputs": [
        {
          "output_type": "execute_result",
          "data": {
            "text/plain": [
              "datetime.datetime(2021, 2, 4, 21, 24, 23, 773587)"
            ]
          },
          "metadata": {
            "tags": []
          },
          "execution_count": 4
        }
      ]
    },
    {
      "cell_type": "markdown",
      "metadata": {
        "id": "QC45JrVJ7YLI"
      },
      "source": [
        "to get specified format of date"
      ]
    },
    {
      "cell_type": "code",
      "metadata": {
        "colab": {
          "base_uri": "https://localhost:8080/",
          "height": 35
        },
        "id": "s7VX1YQm7wRx",
        "outputId": "8c6fe441-4874-4159-8f4a-b621551f99d4"
      },
      "source": [
        "now.strftime('%y-%m-%d,%H:%M:%S')"
      ],
      "execution_count": 9,
      "outputs": [
        {
          "output_type": "execute_result",
          "data": {
            "application/vnd.google.colaboratory.intrinsic+json": {
              "type": "string"
            },
            "text/plain": [
              "'21-02-04,21:24:23'"
            ]
          },
          "metadata": {
            "tags": []
          },
          "execution_count": 9
        }
      ]
    },
    {
      "cell_type": "code",
      "metadata": {
        "colab": {
          "base_uri": "https://localhost:8080/",
          "height": 35
        },
        "id": "Q-A9Zc9o8f9I",
        "outputId": "8a5a2d47-67dc-4059-bbe7-a2477a430c55"
      },
      "source": [
        "now.strftime('%Y-%m-%d,%H:%M:%S')"
      ],
      "execution_count": 10,
      "outputs": [
        {
          "output_type": "execute_result",
          "data": {
            "application/vnd.google.colaboratory.intrinsic+json": {
              "type": "string"
            },
            "text/plain": [
              "'2021-02-04,21:24:23'"
            ]
          },
          "metadata": {
            "tags": []
          },
          "execution_count": 10
        }
      ]
    },
    {
      "cell_type": "markdown",
      "metadata": {
        "id": "R-SLN6vJ8oBf"
      },
      "source": [
        "area of circle with float input"
      ]
    },
    {
      "cell_type": "code",
      "metadata": {
        "colab": {
          "base_uri": "https://localhost:8080/"
        },
        "id": "3tiP2cV18ts0",
        "outputId": "84c286ec-242d-48ad-8e13-0f835f8518c4"
      },
      "source": [
        "rad = float(input('enter radius'))\r\n",
        "import math\r\n",
        "pi = math.pi\r\n",
        "area = pi*(rad*rad)\r\n",
        "area"
      ],
      "execution_count": 11,
      "outputs": [
        {
          "output_type": "stream",
          "text": [
            "enter radius1.1\n"
          ],
          "name": "stdout"
        },
        {
          "output_type": "execute_result",
          "data": {
            "text/plain": [
              "3.8013271108436504"
            ]
          },
          "metadata": {
            "tags": []
          },
          "execution_count": 11
        }
      ]
    },
    {
      "cell_type": "markdown",
      "metadata": {
        "id": "7_WzR03H9Hb3"
      },
      "source": [
        "take names print reverse and space between"
      ]
    },
    {
      "cell_type": "code",
      "metadata": {
        "colab": {
          "base_uri": "https://localhost:8080/"
        },
        "id": "kJ3HALJ09R31",
        "outputId": "7b2b0c93-59a3-4eaa-d32f-5c633d587f2c"
      },
      "source": [
        "first = input('first name')\r\n",
        "last = input('last name')\r\n",
        "print(last+' '+first)\r\n"
      ],
      "execution_count": 12,
      "outputs": [
        {
          "output_type": "stream",
          "text": [
            "first nameslkdn\n",
            "last nameckldsncl\n",
            "ckldsncl slkdn\n"
          ],
          "name": "stdout"
        }
      ]
    },
    {
      "cell_type": "markdown",
      "metadata": {
        "id": "TBPhtnQv9m7j"
      },
      "source": [
        "sequence of number to list and tuple"
      ]
    },
    {
      "cell_type": "code",
      "metadata": {
        "colab": {
          "base_uri": "https://localhost:8080/"
        },
        "id": "Hd_jU4xL9yUD",
        "outputId": "a3eaffd4-ee07-4e2c-f892-47a42842bd28"
      },
      "source": [
        "num = input('enter the numbers')\r\n",
        "num = num.split(',')\r\n",
        "print(num)\r\n",
        "lst = list(num)\r\n",
        "print(lst)\r\n",
        "print(tuple(num))"
      ],
      "execution_count": 15,
      "outputs": [
        {
          "output_type": "stream",
          "text": [
            "enter the numbers3,4,5\n",
            "['3', '4', '5']\n",
            "['3', '4', '5']\n",
            "('3', '4', '5')\n"
          ],
          "name": "stdout"
        }
      ]
    },
    {
      "cell_type": "markdown",
      "metadata": {
        "id": "VKRDlPSx-bY3"
      },
      "source": [
        "take filename and print extension of filename only"
      ]
    },
    {
      "cell_type": "code",
      "metadata": {
        "colab": {
          "base_uri": "https://localhost:8080/",
          "height": 35
        },
        "id": "I--8JwSp-nDe",
        "outputId": "b9615050-71fe-47d8-9053-0fd7ded50338"
      },
      "source": [
        "file_name = \"sae.csv\"\r\n",
        "file_name=file_name.split('.')\r\n",
        "file_name[-1]"
      ],
      "execution_count": 18,
      "outputs": [
        {
          "output_type": "execute_result",
          "data": {
            "application/vnd.google.colaboratory.intrinsic+json": {
              "type": "string"
            },
            "text/plain": [
              "'csv'"
            ]
          },
          "metadata": {
            "tags": []
          },
          "execution_count": 18
        }
      ]
    },
    {
      "cell_type": "markdown",
      "metadata": {
        "id": "fgTPe2us_FuM"
      },
      "source": [
        ""
      ]
    }
  ]
}