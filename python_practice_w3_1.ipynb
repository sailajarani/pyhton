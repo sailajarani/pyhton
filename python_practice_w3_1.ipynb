{
  "nbformat": 4,
  "nbformat_minor": 0,
  "metadata": {
    "colab": {
      "name": "python_practice_w3_1.ipynb",
      "provenance": [],
      "collapsed_sections": [],
      "authorship_tag": "ABX9TyNta7CDz8nPcJIsPHYD9RZH",
      "include_colab_link": true
    },
    "kernelspec": {
      "name": "python3",
      "display_name": "Python 3"
    }
  },
  "cells": [
    {
      "cell_type": "markdown",
      "metadata": {
        "id": "view-in-github",
        "colab_type": "text"
      },
      "source": [
        "<a href=\"https://colab.research.google.com/github/sailajarani/pyhton/blob/main/python_practice_w3_1.ipynb\" target=\"_parent\"><img src=\"https://colab.research.google.com/assets/colab-badge.svg\" alt=\"Open In Colab\"/></a>"
      ]
    },
    {
      "cell_type": "markdown",
      "metadata": {
        "id": "Tb6EE3NW6Ubm"
      },
      "source": [
        "\\n for next line where as \\t for tab space"
      ]
    },
    {
      "cell_type": "code",
      "metadata": {
        "colab": {
          "base_uri": "https://localhost:8080/"
        },
        "id": "MpsBWYHj59sZ",
        "outputId": "9a63f754-891e-4872-8eaa-c599012f0eaf"
      },
      "source": [
        "print( \"Twinkle, twinkle, little star, \\n\\t\\tHow I wonder what you are! Up above the world so high, Like a diamond in the sky. \\n\\tTwinkle, twinkle, little star, How I wonder what you are\")"
      ],
      "execution_count": null,
      "outputs": [
        {
          "output_type": "stream",
          "text": [
            "Twinkle, twinkle, little star, \n",
            "\t\tHow I wonder what you are! Up above the world so high, Like a diamond in the sky. \n",
            "\tTwinkle, twinkle, little star, How I wonder what you are\n"
          ],
          "name": "stdout"
        }
      ]
    },
    {
      "cell_type": "markdown",
      "metadata": {
        "id": "zcVoxKue6tmS"
      },
      "source": [
        "to know python version"
      ]
    },
    {
      "cell_type": "code",
      "metadata": {
        "colab": {
          "base_uri": "https://localhost:8080/",
          "height": 35
        },
        "id": "E9Zf7oPX62IX",
        "outputId": "7d38d262-8ccb-4b7f-cbe9-1ff55231ed7c"
      },
      "source": [
        "import sys\r\n",
        "sys.version"
      ],
      "execution_count": null,
      "outputs": [
        {
          "output_type": "execute_result",
          "data": {
            "application/vnd.google.colaboratory.intrinsic+json": {
              "type": "string"
            },
            "text/plain": [
              "'3.6.9 (default, Oct  8 2020, 12:12:24) \\n[GCC 8.4.0]'"
            ]
          },
          "metadata": {
            "tags": []
          },
          "execution_count": 2
        }
      ]
    },
    {
      "cell_type": "markdown",
      "metadata": {
        "id": "kl68LP2t6-nk"
      },
      "source": [
        "external information of version"
      ]
    },
    {
      "cell_type": "code",
      "metadata": {
        "colab": {
          "base_uri": "https://localhost:8080/"
        },
        "id": "upRkRa8W697B",
        "outputId": "f16c8fdc-79cd-4486-b2cb-8bc958e048e0"
      },
      "source": [
        "sys.version_info"
      ],
      "execution_count": null,
      "outputs": [
        {
          "output_type": "execute_result",
          "data": {
            "text/plain": [
              "sys.version_info(major=3, minor=6, micro=9, releaselevel='final', serial=0)"
            ]
          },
          "metadata": {
            "tags": []
          },
          "execution_count": 3
        }
      ]
    },
    {
      "cell_type": "markdown",
      "metadata": {
        "id": "_EB_qOkK7aQJ"
      },
      "source": [
        "to know the date"
      ]
    },
    {
      "cell_type": "code",
      "metadata": {
        "colab": {
          "base_uri": "https://localhost:8080/"
        },
        "id": "n90YS-Ku7Yag",
        "outputId": "008ebe10-d1b2-4b4f-f1b2-02c7afd89bdf"
      },
      "source": [
        "import datetime\r\n",
        "now = datetime.datetime.now()\r\n",
        "date = datetime.datetime.today()\r\n",
        "print(now)\r\n",
        "print(date)\r\n",
        "now"
      ],
      "execution_count": null,
      "outputs": [
        {
          "output_type": "stream",
          "text": [
            "2021-02-08 14:27:25.551581\n",
            "2021-02-08 14:27:25.551620\n"
          ],
          "name": "stdout"
        },
        {
          "output_type": "execute_result",
          "data": {
            "text/plain": [
              "datetime.datetime(2021, 2, 8, 14, 27, 25, 551581)"
            ]
          },
          "metadata": {
            "tags": []
          },
          "execution_count": 3
        }
      ]
    },
    {
      "cell_type": "markdown",
      "metadata": {
        "id": "QC45JrVJ7YLI"
      },
      "source": [
        "to get specified format of date"
      ]
    },
    {
      "cell_type": "code",
      "metadata": {
        "colab": {
          "base_uri": "https://localhost:8080/",
          "height": 35
        },
        "id": "s7VX1YQm7wRx",
        "outputId": "30d5aa78-2a72-4495-ce12-e4253bdbb060"
      },
      "source": [
        "now.strftime('%y-%m-%d,%H:%M:%S')"
      ],
      "execution_count": null,
      "outputs": [
        {
          "output_type": "execute_result",
          "data": {
            "application/vnd.google.colaboratory.intrinsic+json": {
              "type": "string"
            },
            "text/plain": [
              "'21-02-08,14:27:25'"
            ]
          },
          "metadata": {
            "tags": []
          },
          "execution_count": 4
        }
      ]
    },
    {
      "cell_type": "code",
      "metadata": {
        "colab": {
          "base_uri": "https://localhost:8080/",
          "height": 35
        },
        "id": "Q-A9Zc9o8f9I",
        "outputId": "8a5a2d47-67dc-4059-bbe7-a2477a430c55"
      },
      "source": [
        "now.strftime('%Y-%m-%d,%H:%M:%S')"
      ],
      "execution_count": null,
      "outputs": [
        {
          "output_type": "execute_result",
          "data": {
            "application/vnd.google.colaboratory.intrinsic+json": {
              "type": "string"
            },
            "text/plain": [
              "'2021-02-04,21:24:23'"
            ]
          },
          "metadata": {
            "tags": []
          },
          "execution_count": 10
        }
      ]
    },
    {
      "cell_type": "markdown",
      "metadata": {
        "id": "R-SLN6vJ8oBf"
      },
      "source": [
        "area of circle with float input"
      ]
    },
    {
      "cell_type": "code",
      "metadata": {
        "colab": {
          "base_uri": "https://localhost:8080/"
        },
        "id": "3tiP2cV18ts0",
        "outputId": "84c286ec-242d-48ad-8e13-0f835f8518c4"
      },
      "source": [
        "rad = float(input('enter radius'))\r\n",
        "import math\r\n",
        "pi = math.pi\r\n",
        "area = pi*(rad*rad)\r\n",
        "area"
      ],
      "execution_count": null,
      "outputs": [
        {
          "output_type": "stream",
          "text": [
            "enter radius1.1\n"
          ],
          "name": "stdout"
        },
        {
          "output_type": "execute_result",
          "data": {
            "text/plain": [
              "3.8013271108436504"
            ]
          },
          "metadata": {
            "tags": []
          },
          "execution_count": 11
        }
      ]
    },
    {
      "cell_type": "markdown",
      "metadata": {
        "id": "7_WzR03H9Hb3"
      },
      "source": [
        "take names print reverse and space between"
      ]
    },
    {
      "cell_type": "code",
      "metadata": {
        "colab": {
          "base_uri": "https://localhost:8080/"
        },
        "id": "kJ3HALJ09R31",
        "outputId": "7b2b0c93-59a3-4eaa-d32f-5c633d587f2c"
      },
      "source": [
        "first = input('first name')\r\n",
        "last = input('last name')\r\n",
        "print(last+' '+first)\r\n"
      ],
      "execution_count": null,
      "outputs": [
        {
          "output_type": "stream",
          "text": [
            "first nameslkdn\n",
            "last nameckldsncl\n",
            "ckldsncl slkdn\n"
          ],
          "name": "stdout"
        }
      ]
    },
    {
      "cell_type": "markdown",
      "metadata": {
        "id": "TBPhtnQv9m7j"
      },
      "source": [
        "sequence of number to list and tuple"
      ]
    },
    {
      "cell_type": "code",
      "metadata": {
        "colab": {
          "base_uri": "https://localhost:8080/"
        },
        "id": "Hd_jU4xL9yUD",
        "outputId": "a3eaffd4-ee07-4e2c-f892-47a42842bd28"
      },
      "source": [
        "num = input('enter the numbers')\r\n",
        "num = num.split(',')\r\n",
        "print(num)\r\n",
        "lst = list(num)\r\n",
        "print(lst)\r\n",
        "print(tuple(num))"
      ],
      "execution_count": null,
      "outputs": [
        {
          "output_type": "stream",
          "text": [
            "enter the numbers3,4,5\n",
            "['3', '4', '5']\n",
            "['3', '4', '5']\n",
            "('3', '4', '5')\n"
          ],
          "name": "stdout"
        }
      ]
    },
    {
      "cell_type": "markdown",
      "metadata": {
        "id": "VKRDlPSx-bY3"
      },
      "source": [
        "take filename and print extension of filename only"
      ]
    },
    {
      "cell_type": "code",
      "metadata": {
        "colab": {
          "base_uri": "https://localhost:8080/",
          "height": 35
        },
        "id": "I--8JwSp-nDe",
        "outputId": "b9615050-71fe-47d8-9053-0fd7ded50338"
      },
      "source": [
        "file_name = \"sae.csv\"\r\n",
        "file_name=file_name.split('.')\r\n",
        "file_name[-1]"
      ],
      "execution_count": null,
      "outputs": [
        {
          "output_type": "execute_result",
          "data": {
            "application/vnd.google.colaboratory.intrinsic+json": {
              "type": "string"
            },
            "text/plain": [
              "'csv'"
            ]
          },
          "metadata": {
            "tags": []
          },
          "execution_count": 18
        }
      ]
    },
    {
      "cell_type": "markdown",
      "metadata": {
        "id": "fgTPe2us_FuM"
      },
      "source": [
        "to get start and end values in list"
      ]
    },
    {
      "cell_type": "code",
      "metadata": {
        "colab": {
          "base_uri": "https://localhost:8080/"
        },
        "id": "Bc1-KRAwkrHD",
        "outputId": "4cf6e9fb-490e-4226-996f-05cf26f098cc"
      },
      "source": [
        "color_list = [\"Red\",\"Green\",\"White\" ,\"Black\"]\r\n",
        "print(color_list[0])\r\n",
        "print(color_list[-1])\r\n",
        "print(color_list[0:2])\r\n",
        "print(color_list[-3:-1])\r\n",
        "print(color_list[:-1])\r\n",
        "print(color_list[:])"
      ],
      "execution_count": null,
      "outputs": [
        {
          "output_type": "stream",
          "text": [
            "Red\n",
            "Black\n",
            "['Red', 'Green']\n",
            "['Green', 'White']\n",
            "['Red', 'Green', 'White']\n",
            "['Red', 'Green', 'White', 'Black']\n"
          ],
          "name": "stdout"
        }
      ]
    },
    {
      "cell_type": "markdown",
      "metadata": {
        "id": "fyfeLe_plTsW"
      },
      "source": [
        "take date with ',' give in '/'"
      ]
    },
    {
      "cell_type": "code",
      "metadata": {
        "colab": {
          "base_uri": "https://localhost:8080/"
        },
        "id": "12VZWGEhlZ-B",
        "outputId": "57f311b0-12be-461b-d45b-0e01f74d7c11"
      },
      "source": [
        "date = (11,2,2011)\r\n",
        "print('%i / %i / %i'%date)"
      ],
      "execution_count": null,
      "outputs": [
        {
          "output_type": "stream",
          "text": [
            "11 / 2 / 2011\n"
          ],
          "name": "stdout"
        }
      ]
    },
    {
      "cell_type": "markdown",
      "metadata": {
        "id": "ULKs0JlQpSDf"
      },
      "source": [
        "take a value and do n+nn+nnn"
      ]
    },
    {
      "cell_type": "code",
      "metadata": {
        "colab": {
          "base_uri": "https://localhost:8080/"
        },
        "id": "Ljujym24qewo",
        "outputId": "51632fa0-a4b1-4776-8d68-4a894769d09c"
      },
      "source": [
        "a = int(input(\"Input an integer : \"))\r\n",
        "n1 = int( \"%s\" % a )\r\n",
        "n2 = int( \"%s%s\" % (a,a) )\r\n",
        "n3 = int( \"%s%s%s\" % (a,a,a) )\r\n",
        "print (n1+n2+n3)\r\n"
      ],
      "execution_count": null,
      "outputs": [
        {
          "output_type": "stream",
          "text": [
            "Input an integer : 45\n",
            "459135\n"
          ],
          "name": "stdout"
        }
      ]
    },
    {
      "cell_type": "markdown",
      "metadata": {
        "id": "OJ24ZDu-rIOH"
      },
      "source": [
        "documantation of a function"
      ]
    },
    {
      "cell_type": "code",
      "metadata": {
        "colab": {
          "base_uri": "https://localhost:8080/"
        },
        "id": "5sgByabPrc3L",
        "outputId": "dfc5c7b2-17fe-41b2-e294-25afc8750099"
      },
      "source": [
        "print(abs.__doc__)\r\n",
        "#print(abs.__init__)\r\n",
        "print(sum.__doc__)\r\n",
        "#print(sum.__init__)"
      ],
      "execution_count": null,
      "outputs": [
        {
          "output_type": "stream",
          "text": [
            "Return the absolute value of the argument.\n",
            "<method-wrapper '__init__' of builtin_function_or_method object at 0x7faab8538630>\n",
            "Return the sum of a 'start' value (default: 0) plus an iterable of numbers\n",
            "\n",
            "When the iterable is empty, return the start value.\n",
            "This function is intended specifically for use with numeric values and may\n",
            "reject non-numeric types.\n",
            "<method-wrapper '__init__' of builtin_function_or_method object at 0x7faab85390d8>\n"
          ],
          "name": "stdout"
        }
      ]
    },
    {
      "cell_type": "markdown",
      "metadata": {
        "id": "E3Mnv8XCsk5q"
      },
      "source": [
        "about calender module"
      ]
    },
    {
      "cell_type": "code",
      "metadata": {
        "colab": {
          "base_uri": "https://localhost:8080/"
        },
        "id": "2Aklcht4s1HP",
        "outputId": "1aee9fdf-ba7d-42db-8029-3450047ad403"
      },
      "source": [
        "import calendar\r\n",
        "y = int(input('enter year'))\r\n",
        "m = int(input('enter month'))\r\n",
        "print('calender is',calendar.month(y,m))"
      ],
      "execution_count": null,
      "outputs": [
        {
          "output_type": "stream",
          "text": [
            "enter year2012\n",
            "enter month5\n",
            "calender is       May 2012\n",
            "Mo Tu We Th Fr Sa Su\n",
            "    1  2  3  4  5  6\n",
            " 7  8  9 10 11 12 13\n",
            "14 15 16 17 18 19 20\n",
            "21 22 23 24 25 26 27\n",
            "28 29 30 31\n",
            "\n"
          ],
          "name": "stdout"
        }
      ]
    },
    {
      "cell_type": "markdown",
      "metadata": {
        "id": "8_sEYO6Xt2fg"
      },
      "source": [
        "difference between dates"
      ]
    },
    {
      "cell_type": "code",
      "metadata": {
        "colab": {
          "base_uri": "https://localhost:8080/"
        },
        "id": "6WaW5auJvb4f",
        "outputId": "e74b9df8-4ccd-4502-a7dd-bc676458e29e"
      },
      "source": [
        "f_date = datetime.date(2014,7,8)\r\n",
        "l_date = datetime.date(2014,9,4)\r\n",
        "diff = l_date-f_date\r\n",
        "print(diff.days)"
      ],
      "execution_count": null,
      "outputs": [
        {
          "output_type": "stream",
          "text": [
            "58\n"
          ],
          "name": "stdout"
        }
      ]
    },
    {
      "cell_type": "markdown",
      "metadata": {
        "id": "bBtkVuJkwxKa"
      },
      "source": [
        ""
      ]
    },
    {
      "cell_type": "code",
      "metadata": {
        "colab": {
          "base_uri": "https://localhost:8080/"
        },
        "id": "kGHPkizuxRQP",
        "outputId": "a9af645f-7766-4003-cc1a-239de6336b6a"
      },
      "source": [
        "n = int(input('enter the number'))\r\n",
        "diff = abs(n-17)\r\n",
        "if diff > 17:\r\n",
        "  print(2*diff)\r\n",
        "else:\r\n",
        "  print(diff)"
      ],
      "execution_count": null,
      "outputs": [
        {
          "output_type": "stream",
          "text": [
            "enter the number6\n",
            "11\n"
          ],
          "name": "stdout"
        }
      ]
    },
    {
      "cell_type": "markdown",
      "metadata": {
        "id": "G5cTbnLKyTIa"
      },
      "source": [
        "Write a Python program to test whether a number is within 100 of 1000 or 2000"
      ]
    },
    {
      "cell_type": "code",
      "metadata": {
        "colab": {
          "base_uri": "https://localhost:8080/"
        },
        "id": "gdXGbm6CzP7r",
        "outputId": "303035f8-a652-4fc5-ab8e-ce35bf353e72"
      },
      "source": [
        "def near_thousand(n):\r\n",
        "      return ((abs(1000 - n) <= 100) | (abs(2000 - n) <= 100))    #we can use 'or' instead of '|'\r\n",
        "print(near_thousand(1000))\r\n",
        "print(near_thousand(900))\r\n",
        "print(near_thousand(800))   \r\n",
        "print(near_thousand(2200))\r\n"
      ],
      "execution_count": null,
      "outputs": [
        {
          "output_type": "stream",
          "text": [
            "True\n",
            "True\n",
            "False\n",
            "False\n"
          ],
          "name": "stdout"
        }
      ]
    },
    {
      "cell_type": "markdown",
      "metadata": {
        "id": "0fMJISH2zmQb"
      },
      "source": [
        " Write a Python program to get a new string from a given string where \"Is\" has been added to the front. If the given string already begins with \"Is\" then return the string unchanged."
      ]
    },
    {
      "cell_type": "code",
      "metadata": {
        "colab": {
          "base_uri": "https://localhost:8080/"
        },
        "id": "exKz0w1E0TTz",
        "outputId": "6d531729-e955-4c5a-8c11-df4ec826b260"
      },
      "source": [
        "str1 ='this your car?'\r\n",
        "if str1[0:2] =='Is':\r\n",
        "  print(str1)\r\n",
        "else:\r\n",
        "  print('Is',str1)"
      ],
      "execution_count": null,
      "outputs": [
        {
          "output_type": "stream",
          "text": [
            "Is this your car?\n"
          ],
          "name": "stdout"
        }
      ]
    },
    {
      "cell_type": "markdown",
      "metadata": {
        "id": "iBjOvt741VK3"
      },
      "source": [
        " Write a Python program to get a string which is n (non-negative integer) copies of a given string"
      ]
    },
    {
      "cell_type": "code",
      "metadata": {
        "colab": {
          "base_uri": "https://localhost:8080/"
        },
        "id": "87rECGbE1Yz7",
        "outputId": "795c3b20-e4e2-4d9a-f89e-6ad1848aaa72"
      },
      "source": [
        "def copies(str2,n):\r\n",
        "  if n>0:\r\n",
        "   for i in range(n):\r\n",
        "     print(str2)\r\n",
        "str2 ='fhfb'\r\n",
        "copies(str2,4)\r\n",
        "str3 ='hai'\r\n",
        "copies(str3,8)\r\n",
        "copies(str3,-4)"
      ],
      "execution_count": null,
      "outputs": [
        {
          "output_type": "stream",
          "text": [
            "fhfb\n",
            "fhfb\n",
            "fhfb\n",
            "fhfb\n",
            "hai\n",
            "hai\n",
            "hai\n",
            "hai\n",
            "hai\n",
            "hai\n",
            "hai\n",
            "hai\n"
          ],
          "name": "stdout"
        }
      ]
    },
    {
      "cell_type": "markdown",
      "metadata": {
        "id": "B9WugyUq2i-j"
      },
      "source": [
        "even or odd"
      ]
    },
    {
      "cell_type": "code",
      "metadata": {
        "colab": {
          "base_uri": "https://localhost:8080/"
        },
        "id": "bZJSuSbd2olb",
        "outputId": "462c206c-e575-42f9-87db-50946fe26574"
      },
      "source": [
        "def even_odd(n):\r\n",
        "  if n%2==0:\r\n",
        "    print(str(n) +' is even number')\r\n",
        "  else:\r\n",
        "    print('Given ',n,' odd number')\r\n",
        "num = int(input('enter a number'))\r\n",
        "even_odd(num)"
      ],
      "execution_count": null,
      "outputs": [
        {
          "output_type": "stream",
          "text": [
            "enter a number5\n",
            "Given  5  odd number\n"
          ],
          "name": "stdout"
        }
      ]
    },
    {
      "cell_type": "markdown",
      "metadata": {
        "id": "sZ21iebc3UT3"
      },
      "source": [
        "Write a Python program to count the number 4 in a given list."
      ]
    },
    {
      "cell_type": "code",
      "metadata": {
        "colab": {
          "base_uri": "https://localhost:8080/"
        },
        "id": "3WVQOtsF3jc3",
        "outputId": "c9e780b0-783f-4c5c-aea9-6d6e130a3f36"
      },
      "source": [
        "def list_count_4(nums):\r\n",
        "  count = 0  \r\n",
        "  for num in nums:\r\n",
        "    if num == 4:\r\n",
        "      count = count + 1\r\n",
        "\r\n",
        "  return count\r\n",
        "\r\n",
        "print(list_count_4([1, 4, 6, 7, 4]))\r\n",
        "print(list_count_4([1, 4, 6, 4, 7, 4]))\r\n",
        "  "
      ],
      "execution_count": null,
      "outputs": [
        {
          "output_type": "stream",
          "text": [
            "2\n",
            "3\n"
          ],
          "name": "stdout"
        }
      ]
    },
    {
      "cell_type": "markdown",
      "metadata": {
        "id": "yHn61D8tNy3g"
      },
      "source": [
        "Write a Python program to get the n (non-negative integer) copies of the first 2 characters of a given string. Return the n copies of the whole string if the length is less than 2."
      ]
    },
    {
      "cell_type": "code",
      "metadata": {
        "colab": {
          "base_uri": "https://localhost:8080/",
          "height": 69
        },
        "id": "YO2c0qs2OKrH",
        "outputId": "7eaec6ef-5462-4a2d-887c-e3f9f069c303"
      },
      "source": [
        "def copies_str(str1,n):\r\n",
        "  if len(str1)<2:\r\n",
        "    for i in range(n):\r\n",
        "      print(str1)\r\n",
        "  else:\r\n",
        "    for i in range(n):\r\n",
        "      print(str1[0:2])\r\n",
        "str12 = input('enter a sttring')\r\n",
        "n = int(input('number enter: '))\r\n",
        "#copies_str(str12,n)\r\n",
        "str12[0]"
      ],
      "execution_count": null,
      "outputs": [
        {
          "output_type": "stream",
          "text": [
            "enter a sttringghjlb\n",
            "number enter: 9\n"
          ],
          "name": "stdout"
        },
        {
          "output_type": "execute_result",
          "data": {
            "application/vnd.google.colaboratory.intrinsic+json": {
              "type": "string"
            },
            "text/plain": [
              "'g'"
            ]
          },
          "metadata": {
            "tags": []
          },
          "execution_count": 5
        }
      ]
    },
    {
      "cell_type": "markdown",
      "metadata": {
        "id": "083sr6lkRFwG"
      },
      "source": [
        "Write a Python program to test whether a passed letter is a vowel or not"
      ]
    },
    {
      "cell_type": "code",
      "metadata": {
        "colab": {
          "base_uri": "https://localhost:8080/"
        },
        "id": "VwOXg78DRGvU",
        "outputId": "52d8d3c6-0d60-438e-f046-46900a0574f3"
      },
      "source": [
        "def check(letter):\r\n",
        "  vowels = ['a','e','i','o','u']\r\n",
        "  if letter in vowels:\r\n",
        "    print('letter is vowel')\r\n",
        "  else:\r\n",
        "    print('not vowels')\r\n",
        "check('a')"
      ],
      "execution_count": null,
      "outputs": [
        {
          "output_type": "stream",
          "text": [
            "letter is vowel\n"
          ],
          "name": "stdout"
        }
      ]
    },
    {
      "cell_type": "markdown",
      "metadata": {
        "id": "Exg2dtpsRvZT"
      },
      "source": [
        " Write a Python program to check whether a specified value is contained in a group of values"
      ]
    },
    {
      "cell_type": "code",
      "metadata": {
        "colab": {
          "base_uri": "https://localhost:8080/"
        },
        "id": "7B2aloaCSXx-",
        "outputId": "5324dd06-7a3b-4628-c151-355cb887e40b"
      },
      "source": [
        "def is_group_member(group_data, n):\r\n",
        "    for value in group_data:\r\n",
        "        if n == value:\r\n",
        "            return True\r\n",
        "    return False\r\n",
        "print(is_group_member([1, 5, 8, 3], 3))\r\n",
        "print(is_group_member([5, 8, 3], -1))\r\n"
      ],
      "execution_count": null,
      "outputs": [
        {
          "output_type": "stream",
          "text": [
            "True\n",
            "False\n"
          ],
          "name": "stdout"
        }
      ]
    },
    {
      "cell_type": "markdown",
      "metadata": {
        "id": "-IQfhuaxSpYk"
      },
      "source": [
        "histogram"
      ]
    },
    {
      "cell_type": "code",
      "metadata": {
        "colab": {
          "base_uri": "https://localhost:8080/"
        },
        "id": "l3R0rLnWS56k",
        "outputId": "a31a448f-946f-40d5-8499-dd31f4af66fe"
      },
      "source": [
        "def histogram( items ):\r\n",
        "    for n in items:\r\n",
        "        output = ''\r\n",
        "        times = n\r\n",
        "        while( times > 0 ):\r\n",
        "          output += '*'\r\n",
        "          times = times - 1\r\n",
        "        print(output)\r\n",
        "\r\n",
        "histogram([2, 3, 6, 5])\r\n"
      ],
      "execution_count": null,
      "outputs": [
        {
          "output_type": "stream",
          "text": [
            "**\n",
            "***\n",
            "******\n",
            "*****\n"
          ],
          "name": "stdout"
        }
      ]
    },
    {
      "cell_type": "markdown",
      "metadata": {
        "id": "KsHQhvY8Tcd2"
      },
      "source": [
        "Write a Python program to concatenate all elements in a list into a string and return it.\r\n"
      ]
    },
    {
      "cell_type": "code",
      "metadata": {
        "colab": {
          "base_uri": "https://localhost:8080/"
        },
        "id": "X2zpRgUKThTy",
        "outputId": "ecddac68-f7d5-49fc-8225-5f012d35d3d5"
      },
      "source": [
        "def concat(list1):\r\n",
        "  string = ' '\r\n",
        "  for i in range(len(list1)):\r\n",
        "    string += list1[i] + ' '\r\n",
        "  return string\r\n",
        "list1 = ['hai','my','name ','is','sailaja']\r\n",
        "print(concat(list1))"
      ],
      "execution_count": null,
      "outputs": [
        {
          "output_type": "stream",
          "text": [
            " hai my name  is sailaja \n"
          ],
          "name": "stdout"
        }
      ]
    },
    {
      "cell_type": "markdown",
      "metadata": {
        "id": "UILWHG1oUqgv"
      },
      "source": [
        ""
      ]
    },
    {
      "cell_type": "code",
      "metadata": {
        "colab": {
          "base_uri": "https://localhost:8080/"
        },
        "id": "GMitjlWbEnNg",
        "outputId": "c3e978ee-d348-4256-f297-2da765dedd79"
      },
      "source": [
        "i = 'sailasa'\r\n",
        "for j in i:\r\n",
        "  print(j)\r\n",
        "\r\n"
      ],
      "execution_count": null,
      "outputs": [
        {
          "output_type": "stream",
          "text": [
            "s\n",
            "a\n",
            "i\n",
            "l\n",
            "a\n",
            "s\n",
            "a\n"
          ],
          "name": "stdout"
        }
      ]
    },
    {
      "cell_type": "markdown",
      "metadata": {
        "id": "iv23xAnaXy9O"
      },
      "source": [
        "print even number in a list untill reach number 237"
      ]
    },
    {
      "cell_type": "code",
      "metadata": {
        "id": "IpbZaE_4YIGs"
      },
      "source": [
        "numbers = [    \r\n",
        "    386, 462, 47, 418, 907, 344, 236, 375, 823, 566, 597, 978, 328, 615, 953, 345, \r\n",
        "    399, 162, 758, 219, 918, 237, 412, 566, 826, 248, 866, 950, 626, 949, 687, 217, \r\n",
        "    815, 67, 104, 58, 512, 24, 892, 894, 767, 553, 81, 379, 843, 831, 445, 742, 717, \r\n",
        "    958,743, 527\r\n",
        "    ]\r\n",
        "for i in numbers:\r\n",
        "  if i == 237:\r\n",
        "    break\r\n",
        "  if i%2==0:\r\n",
        "    print(i)\r\n"
      ],
      "execution_count": null,
      "outputs": []
    },
    {
      "cell_type": "markdown",
      "metadata": {
        "id": "FZyR1aata0ar"
      },
      "source": [
        "Write a Python program to print out a set containing all the colors from color_list_1 which are not present in color_list_2 and same color"
      ]
    },
    {
      "cell_type": "code",
      "metadata": {
        "colab": {
          "base_uri": "https://localhost:8080/"
        },
        "id": "FmV6vjajY8IX",
        "outputId": "55651b1e-98dc-4476-9ff6-aae713508faf"
      },
      "source": [
        "color_list_1 = set([\"White\", \"Black\", \"Red\"])\r\n",
        "color_list_2 = set([\"Red\", \"Green\"])\r\n",
        "color_list_1"
      ],
      "execution_count": null,
      "outputs": [
        {
          "output_type": "execute_result",
          "data": {
            "text/plain": [
              "{'Black', 'Red', 'White'}"
            ]
          },
          "metadata": {
            "tags": []
          },
          "execution_count": 10
        }
      ]
    },
    {
      "cell_type": "code",
      "metadata": {
        "colab": {
          "base_uri": "https://localhost:8080/"
        },
        "id": "QHQY0ZxkY8FX",
        "outputId": "9a2ef880-c377-441d-b4ec-48202044a145"
      },
      "source": [
        "def same(color_list_1,color_list_2):\r\n",
        " print('same color ')\r\n",
        " for i in color_list_1:\r\n",
        "   if i in color_list_2:\r\n",
        "    print(i)\r\n",
        "def not_same(color_list_1,color_list_2):\r\n",
        "  print('not same color ')\r\n",
        "  for i in color_list_1:\r\n",
        "    if i not in color_list_2:\r\n",
        "      print(i)\r\n",
        "same(color_list_1,color_list_2)\r\n",
        "not_same(color_list_1,color_list_2)"
      ],
      "execution_count": null,
      "outputs": [
        {
          "output_type": "stream",
          "text": [
            "same color \n",
            "Red\n",
            "not same color \n",
            "White\n",
            "Black\n"
          ],
          "name": "stdout"
        }
      ]
    },
    {
      "cell_type": "markdown",
      "metadata": {
        "id": "-2jAVppoa9MM"
      },
      "source": [
        "greatest common division (GCD)"
      ]
    },
    {
      "cell_type": "code",
      "metadata": {
        "colab": {
          "base_uri": "https://localhost:8080/"
        },
        "id": "QC_0P5V2f0kh",
        "outputId": "ea07ab80-4015-4df7-b22f-14f5fc4662b4"
      },
      "source": [
        "def gcd(x, y):\r\n",
        "    gcd = 1\r\n",
        "    \r\n",
        "    if x % y == 0:\r\n",
        "        return y\r\n",
        "    \r\n",
        "    for k in range(int(y/2), 0, -1):\r\n",
        "        if x % k == 0 and y % k == 0:\r\n",
        "            gcd = k\r\n",
        "            break  \r\n",
        "    return gcd\r\n",
        "\r\n",
        "print(gcd(12, 17))\r\n",
        "print(gcd(4, 6))\r\n"
      ],
      "execution_count": null,
      "outputs": [
        {
          "output_type": "stream",
          "text": [
            "1\n",
            "2\n"
          ],
          "name": "stdout"
        }
      ]
    },
    {
      "cell_type": "markdown",
      "metadata": {
        "id": "rYNRTJ5EgTrT"
      },
      "source": [
        "LCM"
      ]
    },
    {
      "cell_type": "code",
      "metadata": {
        "colab": {
          "base_uri": "https://localhost:8080/"
        },
        "id": "LAao7PUcf4zy",
        "outputId": "4162deb8-ea6f-48ca-9322-3202f8ba0db3"
      },
      "source": [
        "def lcm(x, y):\r\n",
        "   if x > y:\r\n",
        "       z = x\r\n",
        "   else:\r\n",
        "       z = y\r\n",
        "\r\n",
        "   while(True):\r\n",
        "       if((z % x == 0) and (z % y == 0)):\r\n",
        "           lcm = z\r\n",
        "           break\r\n",
        "       z += 1\r\n",
        "\r\n",
        "   return lcm\r\n",
        "print(lcm(4, 6))\r\n",
        "print(lcm(15, 17))\r\n"
      ],
      "execution_count": null,
      "outputs": [
        {
          "output_type": "stream",
          "text": [
            "12\n",
            "255\n"
          ],
          "name": "stdout"
        }
      ]
    },
    {
      "cell_type": "markdown",
      "metadata": {
        "id": "0I2qDTE2kORp"
      },
      "source": [
        "Write a Python program to sum of three given integers. However, if two values are equal sum will be zero."
      ]
    },
    {
      "cell_type": "code",
      "metadata": {
        "colab": {
          "base_uri": "https://localhost:8080/"
        },
        "id": "-uC3kHPUkP2y",
        "outputId": "f9bc2522-9c4b-4e21-d93d-d7e127005fe9"
      },
      "source": [
        "def sum(x, y, z):\r\n",
        "    if x == y or y == z or x==z:\r\n",
        "        sum = 0\r\n",
        "    else:\r\n",
        "        sum = x + y + z\r\n",
        "    return sum\r\n",
        "\r\n",
        "print(sum(2, 1, 2))\r\n",
        "print(sum(3, 2, 2))\r\n",
        "print(sum(2, 2, 2))\r\n",
        "print(sum(1, 2, 3))\r\n"
      ],
      "execution_count": null,
      "outputs": [
        {
          "output_type": "stream",
          "text": [
            "0\n",
            "0\n",
            "0\n",
            "6\n"
          ],
          "name": "stdout"
        }
      ]
    },
    {
      "cell_type": "markdown",
      "metadata": {
        "id": "2pYUfFuLmKqw"
      },
      "source": [
        " Write a Python program to sum of two given integers. However, if the sum is between 15 to 20 it will return 20"
      ]
    },
    {
      "cell_type": "code",
      "metadata": {
        "colab": {
          "base_uri": "https://localhost:8080/"
        },
        "id": "_WQCrd3smNMK",
        "outputId": "d9503088-77e5-487c-d19a-ff215f02fa7b"
      },
      "source": [
        "def sum_of(x,y):\r\n",
        "  z = x+y\r\n",
        "  if 15 < z < 20:\r\n",
        "    z = 20\r\n",
        "  return z\r\n",
        "sum_of(12,10)\r\n",
        "sum_of(12,4)"
      ],
      "execution_count": null,
      "outputs": [
        {
          "output_type": "execute_result",
          "data": {
            "text/plain": [
              "20"
            ]
          },
          "metadata": {
            "tags": []
          },
          "execution_count": 35
        }
      ]
    },
    {
      "cell_type": "markdown",
      "metadata": {
        "id": "-SCLvTKNqKQ2"
      },
      "source": [
        "Write a Python program that will return true if the two given integer values are equal or their sum or difference is 5."
      ]
    },
    {
      "cell_type": "code",
      "metadata": {
        "colab": {
          "base_uri": "https://localhost:8080/"
        },
        "id": "wsYHdsIhqMMd",
        "outputId": "e14604f0-1b3a-4a8d-cc5c-66a1560c6d79"
      },
      "source": [
        "def fun(x,y):\r\n",
        "  if x==y or x+y == 5 or x-y == 5:\r\n",
        "    return True\r\n",
        "  return False\r\n",
        "fun(6,5)"
      ],
      "execution_count": null,
      "outputs": [
        {
          "output_type": "execute_result",
          "data": {
            "text/plain": [
              "False"
            ]
          },
          "metadata": {
            "tags": []
          },
          "execution_count": 41
        }
      ]
    },
    {
      "cell_type": "markdown",
      "metadata": {
        "id": "JDKKOzdUq98e"
      },
      "source": [
        "Write a Python program to add two objects if both objects are an integer type"
      ]
    },
    {
      "cell_type": "code",
      "metadata": {
        "colab": {
          "base_uri": "https://localhost:8080/"
        },
        "id": "EV_dAZSbrDlO",
        "outputId": "984596ac-3b20-4f77-bfbd-a021866f5d0e"
      },
      "source": [
        "x = '3'\r\n",
        "y = 8\r\n",
        "type(x)\r\n",
        "try:\r\n",
        " if type(x) and type(y) == int:\r\n",
        "  print(x+y)\r\n",
        "except TypeError:\r\n",
        "  print('not integer numbers')"
      ],
      "execution_count": null,
      "outputs": [
        {
          "output_type": "stream",
          "text": [
            "not integer numbers\n"
          ],
          "name": "stdout"
        }
      ]
    },
    {
      "cell_type": "markdown",
      "metadata": {
        "id": "viI6-CQNttsy"
      },
      "source": [
        "same problem above different approach below\r\n"
      ]
    },
    {
      "cell_type": "code",
      "metadata": {
        "colab": {
          "base_uri": "https://localhost:8080/",
          "height": 52
        },
        "id": "TM2ygxV5t2qB",
        "outputId": "a89e3d5d-828d-4f68-8e79-f92a5996e68c"
      },
      "source": [
        "\"\"\"\r\n",
        "def add_numbers(a, b):\r\n",
        "    if not (isinstance(a, int) and isinstance(b, int)):\r\n",
        "         raise TypeError(\"Inputs must be integers\")\r\n",
        "        \r\n",
        "    return a + b\r\n",
        "\r\n",
        "print(add_numbers(10, 20))\r\n",
        "print(add_numbers('3',4)) \"\"\"\r\n"
      ],
      "execution_count": null,
      "outputs": [
        {
          "output_type": "execute_result",
          "data": {
            "application/vnd.google.colaboratory.intrinsic+json": {
              "type": "string"
            },
            "text/plain": [
              "'\\ndef add_numbers(a, b):\\n    if not (isinstance(a, int) and isinstance(b, int)):\\n         raise TypeError(\"Inputs must be integers\")\\n        \\n    return a + b\\n\\nprint(add_numbers(10, 20))\\nprint(add_numbers(\\'3\\',4)) '"
            ]
          },
          "metadata": {
            "tags": []
          },
          "execution_count": 54
        }
      ]
    },
    {
      "cell_type": "markdown",
      "metadata": {
        "id": "OMIMU0IWucXK"
      },
      "source": [
        "print name, age, address in different lines"
      ]
    },
    {
      "cell_type": "code",
      "metadata": {
        "colab": {
          "base_uri": "https://localhost:8080/"
        },
        "id": "ca5MfSKBuqI-",
        "outputId": "58758868-c797-4319-be4b-9e784a58f92a"
      },
      "source": [
        "def personal_details():\r\n",
        "    name, age = \"Simon\", 19\r\n",
        "    address = \"Bangalore, Karnataka, India\"\r\n",
        "    print(\"Name: {}\\nAge: {}\\nAddress: {}\".format(name, age, address))\r\n",
        "\r\n",
        "personal_details()\r\n"
      ],
      "execution_count": null,
      "outputs": [
        {
          "output_type": "stream",
          "text": [
            "Name: Simon\n",
            "Age: 19\n",
            "Address: Bangalore, Karnataka, India\n"
          ],
          "name": "stdout"
        }
      ]
    },
    {
      "cell_type": "markdown",
      "metadata": {
        "id": "2HvHnsTbu2oO"
      },
      "source": [
        "future_value "
      ]
    },
    {
      "cell_type": "code",
      "metadata": {
        "colab": {
          "base_uri": "https://localhost:8080/"
        },
        "id": "yncun2lTwWnV",
        "outputId": "ea25d9e4-90cf-48a6-d489-a4495fbdb24f"
      },
      "source": [
        "amt = 10000\r\n",
        "int = 3.5\r\n",
        "years = 7\r\n",
        "\r\n",
        "future_value  = amt*((1+(0.01*int)) ** years)\r\n",
        "print(round(future_value,2))\r\n"
      ],
      "execution_count": null,
      "outputs": [
        {
          "output_type": "stream",
          "text": [
            "12722.79\n"
          ],
          "name": "stdout"
        }
      ]
    },
    {
      "cell_type": "markdown",
      "metadata": {
        "id": "PaJWaQsTxmgH"
      },
      "source": [
        "distance between two points"
      ]
    },
    {
      "cell_type": "code",
      "metadata": {
        "colab": {
          "base_uri": "https://localhost:8080/"
        },
        "id": "3ZYbIk6JyWpF",
        "outputId": "0a2ddf21-c8cb-4188-aa37-e57ba2dda81f"
      },
      "source": [
        "import math\r\n",
        "def distance(x1,y1,x2,y2):\r\n",
        "  return math.sqrt(((x2-x1)**2)+((y2-y1)**2))\r\n",
        "distance(4,5,4,3)"
      ],
      "execution_count": null,
      "outputs": [
        {
          "output_type": "execute_result",
          "data": {
            "text/plain": [
              "2.0"
            ]
          },
          "metadata": {
            "tags": []
          },
          "execution_count": 61
        }
      ]
    },
    {
      "cell_type": "markdown",
      "metadata": {
        "id": "kO2sVh9uHWET"
      },
      "source": [
        "to check the file exists or not"
      ]
    },
    {
      "cell_type": "code",
      "metadata": {
        "colab": {
          "base_uri": "https://localhost:8080/"
        },
        "id": "UqoC272mH_7h",
        "outputId": "8bdfae3c-92e8-4632-831b-ca0a15c43a82"
      },
      "source": [
        "import os.path\r\n",
        "open('abc.txt','w')\r\n",
        "print(os.path.isfile('abc.txt'))\r\n",
        "print(os.path.isfile('bank_data.csv'))\r\n"
      ],
      "execution_count": null,
      "outputs": [
        {
          "output_type": "stream",
          "text": [
            "True\n",
            "False\n"
          ],
          "name": "stdout"
        }
      ]
    },
    {
      "cell_type": "markdown",
      "metadata": {
        "id": "TzhBdPFcIkoQ"
      },
      "source": [
        " For 32 bit it will return 32 and for 64 bit it will return 64"
      ]
    },
    {
      "cell_type": "code",
      "metadata": {
        "colab": {
          "base_uri": "https://localhost:8080/"
        },
        "id": "YoCxRY7XLqmN",
        "outputId": "113a8cef-9bf4-4779-951a-4918be26e21f"
      },
      "source": [
        "\r\n",
        "import struct\r\n",
        "print(struct.calcsize(\"P\") * 8)\r\n"
      ],
      "execution_count": null,
      "outputs": [
        {
          "output_type": "stream",
          "text": [
            "64\n"
          ],
          "name": "stdout"
        }
      ]
    },
    {
      "cell_type": "markdown",
      "metadata": {
        "id": "DmrbS0vdLxmL"
      },
      "source": [
        "Write a Python program to get OS name, platform and release information."
      ]
    },
    {
      "cell_type": "code",
      "metadata": {
        "colab": {
          "base_uri": "https://localhost:8080/"
        },
        "id": "IlV0bjjjMJHz",
        "outputId": "617765a6-bb97-48cf-fecf-a68c685ca99a"
      },
      "source": [
        "import platform\r\n",
        "import os\r\n",
        "print(os.name)\r\n",
        "print(platform.system())\r\n",
        "print(platform.release())\r\n"
      ],
      "execution_count": null,
      "outputs": [
        {
          "output_type": "stream",
          "text": [
            "posix\n",
            "Linux\n",
            "4.19.112+\n"
          ],
          "name": "stdout"
        }
      ]
    },
    {
      "cell_type": "markdown",
      "metadata": {
        "id": "mdt3SXJHMQ7D"
      },
      "source": [
        "To get the site packages of python"
      ]
    },
    {
      "cell_type": "code",
      "metadata": {
        "colab": {
          "base_uri": "https://localhost:8080/"
        },
        "id": "qNlbeDtXNB9x",
        "outputId": "9f252742-b118-47e8-fafe-e0c073a87ca3"
      },
      "source": [
        "import site\r\n",
        "print(site.getsitepackages())"
      ],
      "execution_count": null,
      "outputs": [
        {
          "output_type": "stream",
          "text": [
            "['/usr/local/lib/python3.6/dist-packages', '/usr/lib/python3/dist-packages', '/usr/lib/python3.6/dist-packages']\n"
          ],
          "name": "stdout"
        }
      ]
    },
    {
      "cell_type": "markdown",
      "metadata": {
        "id": "6gMZlESGNRQJ"
      },
      "source": [
        "Write a python program to call an external command in Python."
      ]
    },
    {
      "cell_type": "code",
      "metadata": {
        "colab": {
          "base_uri": "https://localhost:8080/"
        },
        "id": "WCkD6YsbNQ0W",
        "outputId": "87f7cea0-213b-4ea6-9f8a-7eb9338df14f"
      },
      "source": [
        "from subprocess import call\r\n",
        "call([\"ls\", \"-l\"])\r\n"
      ],
      "execution_count": null,
      "outputs": [
        {
          "output_type": "execute_result",
          "data": {
            "text/plain": [
              "0"
            ]
          },
          "metadata": {
            "tags": []
          },
          "execution_count": 70
        }
      ]
    },
    {
      "cell_type": "markdown",
      "metadata": {
        "id": "-J3OqBhsN2lZ"
      },
      "source": [
        "Write a python program to get the path and name of the file that is currently executing"
      ]
    },
    {
      "cell_type": "code",
      "metadata": {
        "colab": {
          "base_uri": "https://localhost:8080/"
        },
        "id": "8uNaXHg-N31j",
        "outputId": "6b93bc2c-ab57-4845-e16f-477d1bc34e9b"
      },
      "source": [
        "import os\r\n",
        "print(\"Current File Name : \",os.path.realpath('train_chatbot.txt'))\r\n"
      ],
      "execution_count": null,
      "outputs": [
        {
          "output_type": "stream",
          "text": [
            "Current File Name :  /content/train_chatbot.txt\n"
          ],
          "name": "stdout"
        }
      ]
    },
    {
      "cell_type": "markdown",
      "metadata": {
        "id": "VYyo6PVuQPRU"
      },
      "source": [
        "number of cpu"
      ]
    },
    {
      "cell_type": "code",
      "metadata": {
        "colab": {
          "base_uri": "https://localhost:8080/"
        },
        "id": "HME_eD0EQN7R",
        "outputId": "591bbc52-6e48-4985-cf7f-fd89b117783e"
      },
      "source": [
        "import multiprocessing\r\n",
        "print(multiprocessing.cpu_count())\r\n"
      ],
      "execution_count": null,
      "outputs": [
        {
          "output_type": "stream",
          "text": [
            "2\n"
          ],
          "name": "stdout"
        }
      ]
    },
    {
      "cell_type": "markdown",
      "metadata": {
        "id": "7_eOMpBrQigL"
      },
      "source": [
        "Write a Python program to parse a string to Float or Integer"
      ]
    },
    {
      "cell_type": "code",
      "metadata": {
        "colab": {
          "base_uri": "https://localhost:8080/"
        },
        "id": "F98WXnKJQkEb",
        "outputId": "c834dad7-cb9b-43d5-b18d-62e15022da5c"
      },
      "source": [
        "n = '1123'\r\n",
        "print(float(n))\r\n",
        "#print(int(n))"
      ],
      "execution_count": null,
      "outputs": [
        {
          "output_type": "stream",
          "text": [
            "1123.0\n"
          ],
          "name": "stdout"
        }
      ]
    },
    {
      "cell_type": "markdown",
      "metadata": {
        "id": "wsozN0PXRbKG"
      },
      "source": [
        "Write a Python program to print without newline or space"
      ]
    },
    {
      "cell_type": "code",
      "metadata": {
        "colab": {
          "base_uri": "https://localhost:8080/"
        },
        "id": "dDpC_YLKRuXZ",
        "outputId": "41124776-3a07-4782-b28d-c89368bdf646"
      },
      "source": [
        "for i in range(10):\r\n",
        "  print('*',end =\"\")\r\n",
        "print('\\n')"
      ],
      "execution_count": null,
      "outputs": [
        {
          "output_type": "stream",
          "text": [
            "**********\n",
            "\n"
          ],
          "name": "stdout"
        }
      ]
    }
  ]
}